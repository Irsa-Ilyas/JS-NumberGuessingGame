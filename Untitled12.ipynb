{
  "nbformat": 4,
  "nbformat_minor": 0,
  "metadata": {
    "colab": {
      "provenance": [],
      "authorship_tag": "ABX9TyNs5P0BMKnYCRbS8xeyTNh1"
    },
    "kernelspec": {
      "name": "python3",
      "display_name": "Python 3"
    },
    "language_info": {
      "name": "python"
    }
  },
  "cells": [
    {
      "cell_type": "markdown",
      "source": [
        "**Number Guessing Game (Computer)**\n",
        "\n"
      ],
      "metadata": {
        "id": "HQWAgJiEdse1"
      }
    },
    {
      "cell_type": "code",
      "source": [
        "import random\n",
        "\n",
        "low_number = 1\n",
        "high_number = 20\n",
        "attempt = 0\n",
        "\n",
        "print(\"✨✨Think of a number between 1 and 20 I'll try to guess it!✨✨\")\n",
        "\n",
        "while True:\n",
        "    if low_number > high_number:\n",
        "        print(\"⚠️ Something went wrong! Did you change your number? 😲\")\n",
        "        break\n",
        "    attempt += 1\n",
        "    generate_random = random.randint(low_number, high_number)  # Generate a new guess\n",
        "    print(f\" My guess is: {generate_random}\")\n",
        "    user_guess = input(\"Is it (H)igh, (L)ow, or (C)orrect? \").lower()\n",
        "\n",
        "    if user_guess == \"c\":\n",
        "        print(f\" 👏 Congratulations! I guessed your number in {attempt} attempts! 🎉\")\n",
        "        break\n",
        "    elif user_guess == \"l\":\n",
        "        low_number = generate_random + 1  # Update lower range\n",
        "    elif user_guess == \"h\":\n",
        "        high_number = generate_random - 1  # Update upper range\n",
        "    else:\n",
        "        print(\"⚠️ Please enter 'H', 'L', or 'C' only!\")"
      ],
      "metadata": {
        "colab": {
          "base_uri": "https://localhost:8080/"
        },
        "id": "anRUpLR7d6aT",
        "outputId": "0ca131b2-f819-4ca3-cc8a-040677cf0948"
      },
      "execution_count": null,
      "outputs": [
        {
          "output_type": "stream",
          "name": "stdout",
          "text": [
            "✨✨Think of a number between 1 and 20 I'll try to guess it!✨✨\n",
            " My guess is: 18\n"
          ]
        }
      ]
    }
  ]
}